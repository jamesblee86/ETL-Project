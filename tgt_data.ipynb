{
 "cells": [
  {
   "cell_type": "code",
   "execution_count": 24,
   "metadata": {},
   "outputs": [],
   "source": [
    "import pandas as pd\n",
    "from sqlalchemy import create_engine"
   ]
  },
  {
   "cell_type": "code",
   "execution_count": 25,
   "metadata": {},
   "outputs": [
    {
     "data": {
      "text/html": [
       "<div>\n",
       "<style scoped>\n",
       "    .dataframe tbody tr th:only-of-type {\n",
       "        vertical-align: middle;\n",
       "    }\n",
       "\n",
       "    .dataframe tbody tr th {\n",
       "        vertical-align: top;\n",
       "    }\n",
       "\n",
       "    .dataframe thead th {\n",
       "        text-align: right;\n",
       "    }\n",
       "</style>\n",
       "<table border=\"1\" class=\"dataframe\">\n",
       "  <thead>\n",
       "    <tr style=\"text-align: right;\">\n",
       "      <th></th>\n",
       "      <th>date</th>\n",
       "      <th>volume</th>\n",
       "      <th>open</th>\n",
       "      <th>close</th>\n",
       "      <th>high</th>\n",
       "      <th>low</th>\n",
       "      <th>adjclose</th>\n",
       "    </tr>\n",
       "  </thead>\n",
       "  <tbody>\n",
       "    <tr>\n",
       "      <th>0</th>\n",
       "      <td>2019-04-18</td>\n",
       "      <td>3162700</td>\n",
       "      <td>82.760002</td>\n",
       "      <td>83.260002</td>\n",
       "      <td>83.480003</td>\n",
       "      <td>82.440002</td>\n",
       "      <td>83.260002</td>\n",
       "    </tr>\n",
       "    <tr>\n",
       "      <th>1</th>\n",
       "      <td>2019-04-17</td>\n",
       "      <td>3045000</td>\n",
       "      <td>82.400002</td>\n",
       "      <td>82.680000</td>\n",
       "      <td>83.400002</td>\n",
       "      <td>82.300003</td>\n",
       "      <td>82.680000</td>\n",
       "    </tr>\n",
       "    <tr>\n",
       "      <th>2</th>\n",
       "      <td>2019-04-16</td>\n",
       "      <td>2663600</td>\n",
       "      <td>82.389999</td>\n",
       "      <td>81.970001</td>\n",
       "      <td>82.459999</td>\n",
       "      <td>81.650002</td>\n",
       "      <td>81.970001</td>\n",
       "    </tr>\n",
       "    <tr>\n",
       "      <th>3</th>\n",
       "      <td>2019-04-15</td>\n",
       "      <td>3306200</td>\n",
       "      <td>80.839996</td>\n",
       "      <td>81.980003</td>\n",
       "      <td>82.129997</td>\n",
       "      <td>80.690002</td>\n",
       "      <td>81.980003</td>\n",
       "    </tr>\n",
       "    <tr>\n",
       "      <th>4</th>\n",
       "      <td>2019-04-12</td>\n",
       "      <td>3517200</td>\n",
       "      <td>81.000000</td>\n",
       "      <td>80.730003</td>\n",
       "      <td>81.500000</td>\n",
       "      <td>80.440002</td>\n",
       "      <td>80.730003</td>\n",
       "    </tr>\n",
       "  </tbody>\n",
       "</table>\n",
       "</div>"
      ],
      "text/plain": [
       "         date   volume       open      close       high        low   adjclose\n",
       "0  2019-04-18  3162700  82.760002  83.260002  83.480003  82.440002  83.260002\n",
       "1  2019-04-17  3045000  82.400002  82.680000  83.400002  82.300003  82.680000\n",
       "2  2019-04-16  2663600  82.389999  81.970001  82.459999  81.650002  81.970001\n",
       "3  2019-04-15  3306200  80.839996  81.980003  82.129997  80.690002  81.980003\n",
       "4  2019-04-12  3517200  81.000000  80.730003  81.500000  80.440002  80.730003"
      ]
     },
     "execution_count": 25,
     "metadata": {},
     "output_type": "execute_result"
    }
   ],
   "source": [
    "tgt_csv_file = \"./TGT.csv\"\n",
    "tgt_data_df = pd.read_csv(tgt_csv_file)\n",
    "tgt_data_df.head()"
   ]
  },
  {
   "cell_type": "code",
   "execution_count": 12,
   "metadata": {},
   "outputs": [
    {
     "name": "stdout",
     "output_type": "stream",
     "text": [
      "<class 'pandas.core.frame.DataFrame'>\n",
      "RangeIndex: 9858 entries, 0 to 9857\n",
      "Data columns (total 7 columns):\n",
      "date        9858 non-null object\n",
      "volume      9858 non-null int64\n",
      "open        9858 non-null float64\n",
      "close       9858 non-null float64\n",
      "high        9858 non-null float64\n",
      "low         9858 non-null float64\n",
      "adjclose    9858 non-null float64\n",
      "dtypes: float64(5), int64(1), object(1)\n",
      "memory usage: 539.2+ KB\n"
     ]
    }
   ],
   "source": [
    "tgt_data_df.info()"
   ]
  },
  {
   "cell_type": "code",
   "execution_count": 23,
   "metadata": {},
   "outputs": [
    {
     "data": {
      "text/html": [
       "<div>\n",
       "<style scoped>\n",
       "    .dataframe tbody tr th:only-of-type {\n",
       "        vertical-align: middle;\n",
       "    }\n",
       "\n",
       "    .dataframe tbody tr th {\n",
       "        vertical-align: top;\n",
       "    }\n",
       "\n",
       "    .dataframe thead th {\n",
       "        text-align: right;\n",
       "    }\n",
       "</style>\n",
       "<table border=\"1\" class=\"dataframe\">\n",
       "  <thead>\n",
       "    <tr style=\"text-align: right;\">\n",
       "      <th></th>\n",
       "      <th>date</th>\n",
       "      <th>volume</th>\n",
       "      <th>open</th>\n",
       "      <th>close</th>\n",
       "      <th>high</th>\n",
       "      <th>low</th>\n",
       "      <th>adjclose</th>\n",
       "    </tr>\n",
       "  </thead>\n",
       "  <tbody>\n",
       "    <tr>\n",
       "      <th>828</th>\n",
       "      <td>2016-01-04</td>\n",
       "      <td>8233300</td>\n",
       "      <td>71.839996</td>\n",
       "      <td>73.550003</td>\n",
       "      <td>73.709999</td>\n",
       "      <td>71.529999</td>\n",
       "      <td>65.530708</td>\n",
       "    </tr>\n",
       "    <tr>\n",
       "      <th>577</th>\n",
       "      <td>2016-12-30</td>\n",
       "      <td>3069200</td>\n",
       "      <td>72.709999</td>\n",
       "      <td>72.230003</td>\n",
       "      <td>72.930000</td>\n",
       "      <td>71.879997</td>\n",
       "      <td>66.464729</td>\n",
       "    </tr>\n",
       "  </tbody>\n",
       "</table>\n",
       "</div>"
      ],
      "text/plain": [
       "           date   volume       open      close       high        low  \\\n",
       "828  2016-01-04  8233300  71.839996  73.550003  73.709999  71.529999   \n",
       "577  2016-12-30  3069200  72.709999  72.230003  72.930000  71.879997   \n",
       "\n",
       "      adjclose  \n",
       "828  65.530708  \n",
       "577  66.464729  "
      ]
     },
     "execution_count": 23,
     "metadata": {},
     "output_type": "execute_result"
    }
   ],
   "source": [
    "tgt_by_price_df = tgt_data_df.loc[tgt_data_df['date'] == \"2016-01-04\"]\n",
    "tgt_ey_price_df = tgt_data_df.loc[tgt_data_df['date'] == \"2016-12-30\"]\n",
    "tgt_by_ey_price_df = tgt_by_price_df.append(tgt_ey_price_df)\n",
    "tgt_by_ey_price_df"
   ]
  },
  {
   "cell_type": "code",
   "execution_count": null,
   "metadata": {},
   "outputs": [],
   "source": []
  }
 ],
 "metadata": {
  "kernelspec": {
   "display_name": "Python 3",
   "language": "python",
   "name": "python3"
  },
  "language_info": {
   "codemirror_mode": {
    "name": "ipython",
    "version": 3
   },
   "file_extension": ".py",
   "mimetype": "text/x-python",
   "name": "python",
   "nbconvert_exporter": "python",
   "pygments_lexer": "ipython3",
   "version": "3.7.1"
  }
 },
 "nbformat": 4,
 "nbformat_minor": 2
}
